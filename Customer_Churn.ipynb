{
 "cells": [
  {
   "cell_type": "code",
   "execution_count": 112,
   "metadata": {},
   "outputs": [],
   "source": [
    "import pandas as pd\n",
    "import numpy as np\n",
    "import matplotlib.pyplot as plt\n",
    "import seaborn as sns\n",
    "from sklearn.preprocessing import StandardScaler\n",
    "from sklearn.model_selection import train_test_split,RandomizedSearchCV\n",
    "from sklearn.linear_model import LogisticRegression\n",
    "from sklearn.ensemble import RandomForestClassifier\n",
    "from sklearn.tree import DecisionTreeClassifier\n",
    "from sklearn.svm import SVC\n",
    "from imblearn.over_sampling import SMOTE\n",
    "from sklearn.metrics import classification_report,roc_auc_score,roc_curve,auc"
   ]
  },
  {
   "cell_type": "code",
   "execution_count": 42,
   "metadata": {},
   "outputs": [],
   "source": [
    "import warnings\n",
    "warnings.filterwarnings('ignore', category=FutureWarning)\n",
    "warnings.filterwarnings('ignore', category=UserWarning)"
   ]
  },
  {
   "cell_type": "markdown",
   "metadata": {},
   "source": [
    "Exploratory Data Analysis"
   ]
  },
  {
   "cell_type": "code",
   "execution_count": 17,
   "metadata": {},
   "outputs": [
    {
     "data": {
      "text/html": [
       "<div>\n",
       "<style scoped>\n",
       "    .dataframe tbody tr th:only-of-type {\n",
       "        vertical-align: middle;\n",
       "    }\n",
       "\n",
       "    .dataframe tbody tr th {\n",
       "        vertical-align: top;\n",
       "    }\n",
       "\n",
       "    .dataframe thead th {\n",
       "        text-align: right;\n",
       "    }\n",
       "</style>\n",
       "<table border=\"1\" class=\"dataframe\">\n",
       "  <thead>\n",
       "    <tr style=\"text-align: right;\">\n",
       "      <th></th>\n",
       "      <th>Account_Length</th>\n",
       "      <th>Vmail_Message</th>\n",
       "      <th>Day_Mins</th>\n",
       "      <th>Eve_Mins</th>\n",
       "      <th>Night_Mins</th>\n",
       "      <th>Intl_Mins</th>\n",
       "      <th>CustServ_Calls</th>\n",
       "      <th>Churn</th>\n",
       "      <th>Intl_Plan</th>\n",
       "      <th>Vmail_Plan</th>\n",
       "      <th>...</th>\n",
       "      <th>Day_Charge</th>\n",
       "      <th>Eve_Calls</th>\n",
       "      <th>Eve_Charge</th>\n",
       "      <th>Night_Calls</th>\n",
       "      <th>Night_Charge</th>\n",
       "      <th>Intl_Calls</th>\n",
       "      <th>Intl_Charge</th>\n",
       "      <th>State</th>\n",
       "      <th>Area_Code</th>\n",
       "      <th>Phone</th>\n",
       "    </tr>\n",
       "  </thead>\n",
       "  <tbody>\n",
       "    <tr>\n",
       "      <th>0</th>\n",
       "      <td>128</td>\n",
       "      <td>25</td>\n",
       "      <td>265.1</td>\n",
       "      <td>197.4</td>\n",
       "      <td>244.7</td>\n",
       "      <td>10.0</td>\n",
       "      <td>1</td>\n",
       "      <td>no</td>\n",
       "      <td>no</td>\n",
       "      <td>yes</td>\n",
       "      <td>...</td>\n",
       "      <td>45.07</td>\n",
       "      <td>99</td>\n",
       "      <td>16.78</td>\n",
       "      <td>91</td>\n",
       "      <td>11.01</td>\n",
       "      <td>3</td>\n",
       "      <td>2.70</td>\n",
       "      <td>KS</td>\n",
       "      <td>415</td>\n",
       "      <td>382-4657</td>\n",
       "    </tr>\n",
       "    <tr>\n",
       "      <th>1</th>\n",
       "      <td>107</td>\n",
       "      <td>26</td>\n",
       "      <td>161.6</td>\n",
       "      <td>195.5</td>\n",
       "      <td>254.4</td>\n",
       "      <td>13.7</td>\n",
       "      <td>1</td>\n",
       "      <td>no</td>\n",
       "      <td>no</td>\n",
       "      <td>yes</td>\n",
       "      <td>...</td>\n",
       "      <td>27.47</td>\n",
       "      <td>103</td>\n",
       "      <td>16.62</td>\n",
       "      <td>103</td>\n",
       "      <td>11.45</td>\n",
       "      <td>3</td>\n",
       "      <td>3.70</td>\n",
       "      <td>OH</td>\n",
       "      <td>415</td>\n",
       "      <td>371-7191</td>\n",
       "    </tr>\n",
       "    <tr>\n",
       "      <th>2</th>\n",
       "      <td>137</td>\n",
       "      <td>0</td>\n",
       "      <td>243.4</td>\n",
       "      <td>121.2</td>\n",
       "      <td>162.6</td>\n",
       "      <td>12.2</td>\n",
       "      <td>0</td>\n",
       "      <td>no</td>\n",
       "      <td>no</td>\n",
       "      <td>no</td>\n",
       "      <td>...</td>\n",
       "      <td>41.38</td>\n",
       "      <td>110</td>\n",
       "      <td>10.30</td>\n",
       "      <td>104</td>\n",
       "      <td>7.32</td>\n",
       "      <td>5</td>\n",
       "      <td>3.29</td>\n",
       "      <td>NJ</td>\n",
       "      <td>415</td>\n",
       "      <td>358-1921</td>\n",
       "    </tr>\n",
       "    <tr>\n",
       "      <th>3</th>\n",
       "      <td>84</td>\n",
       "      <td>0</td>\n",
       "      <td>299.4</td>\n",
       "      <td>61.9</td>\n",
       "      <td>196.9</td>\n",
       "      <td>6.6</td>\n",
       "      <td>2</td>\n",
       "      <td>no</td>\n",
       "      <td>yes</td>\n",
       "      <td>no</td>\n",
       "      <td>...</td>\n",
       "      <td>50.90</td>\n",
       "      <td>88</td>\n",
       "      <td>5.26</td>\n",
       "      <td>89</td>\n",
       "      <td>8.86</td>\n",
       "      <td>7</td>\n",
       "      <td>1.78</td>\n",
       "      <td>OH</td>\n",
       "      <td>408</td>\n",
       "      <td>375-9999</td>\n",
       "    </tr>\n",
       "    <tr>\n",
       "      <th>4</th>\n",
       "      <td>75</td>\n",
       "      <td>0</td>\n",
       "      <td>166.7</td>\n",
       "      <td>148.3</td>\n",
       "      <td>186.9</td>\n",
       "      <td>10.1</td>\n",
       "      <td>3</td>\n",
       "      <td>no</td>\n",
       "      <td>yes</td>\n",
       "      <td>no</td>\n",
       "      <td>...</td>\n",
       "      <td>28.34</td>\n",
       "      <td>122</td>\n",
       "      <td>12.61</td>\n",
       "      <td>121</td>\n",
       "      <td>8.41</td>\n",
       "      <td>3</td>\n",
       "      <td>2.73</td>\n",
       "      <td>OK</td>\n",
       "      <td>415</td>\n",
       "      <td>330-6626</td>\n",
       "    </tr>\n",
       "  </tbody>\n",
       "</table>\n",
       "<p>5 rows × 21 columns</p>\n",
       "</div>"
      ],
      "text/plain": [
       "   Account_Length  Vmail_Message  Day_Mins  Eve_Mins  Night_Mins  Intl_Mins  \\\n",
       "0             128             25     265.1     197.4       244.7       10.0   \n",
       "1             107             26     161.6     195.5       254.4       13.7   \n",
       "2             137              0     243.4     121.2       162.6       12.2   \n",
       "3              84              0     299.4      61.9       196.9        6.6   \n",
       "4              75              0     166.7     148.3       186.9       10.1   \n",
       "\n",
       "   CustServ_Calls Churn Intl_Plan Vmail_Plan  ...  Day_Charge  Eve_Calls  \\\n",
       "0               1    no        no        yes  ...       45.07         99   \n",
       "1               1    no        no        yes  ...       27.47        103   \n",
       "2               0    no        no         no  ...       41.38        110   \n",
       "3               2    no       yes         no  ...       50.90         88   \n",
       "4               3    no       yes         no  ...       28.34        122   \n",
       "\n",
       "   Eve_Charge  Night_Calls  Night_Charge  Intl_Calls  Intl_Charge  State  \\\n",
       "0       16.78           91         11.01           3         2.70     KS   \n",
       "1       16.62          103         11.45           3         3.70     OH   \n",
       "2       10.30          104          7.32           5         3.29     NJ   \n",
       "3        5.26           89          8.86           7         1.78     OH   \n",
       "4       12.61          121          8.41           3         2.73     OK   \n",
       "\n",
       "  Area_Code     Phone  \n",
       "0       415  382-4657  \n",
       "1       415  371-7191  \n",
       "2       415  358-1921  \n",
       "3       408  375-9999  \n",
       "4       415  330-6626  \n",
       "\n",
       "[5 rows x 21 columns]"
      ]
     },
     "execution_count": 17,
     "metadata": {},
     "output_type": "execute_result"
    }
   ],
   "source": [
    "telco=pd.read_csv('Churn.csv')\n",
    "telco.head()\n"
   ]
  },
  {
   "cell_type": "code",
   "execution_count": 18,
   "metadata": {},
   "outputs": [
    {
     "name": "stdout",
     "output_type": "stream",
     "text": [
      "<class 'pandas.core.frame.DataFrame'>\n",
      "RangeIndex: 3333 entries, 0 to 3332\n",
      "Data columns (total 21 columns):\n",
      " #   Column          Non-Null Count  Dtype  \n",
      "---  ------          --------------  -----  \n",
      " 0   Account_Length  3333 non-null   int64  \n",
      " 1   Vmail_Message   3333 non-null   int64  \n",
      " 2   Day_Mins        3333 non-null   float64\n",
      " 3   Eve_Mins        3333 non-null   float64\n",
      " 4   Night_Mins      3333 non-null   float64\n",
      " 5   Intl_Mins       3333 non-null   float64\n",
      " 6   CustServ_Calls  3333 non-null   int64  \n",
      " 7   Churn           3333 non-null   object \n",
      " 8   Intl_Plan       3333 non-null   object \n",
      " 9   Vmail_Plan      3333 non-null   object \n",
      " 10  Day_Calls       3333 non-null   int64  \n",
      " 11  Day_Charge      3333 non-null   float64\n",
      " 12  Eve_Calls       3333 non-null   int64  \n",
      " 13  Eve_Charge      3333 non-null   float64\n",
      " 14  Night_Calls     3333 non-null   int64  \n",
      " 15  Night_Charge    3333 non-null   float64\n",
      " 16  Intl_Calls      3333 non-null   int64  \n",
      " 17  Intl_Charge     3333 non-null   float64\n",
      " 18  State           3333 non-null   object \n",
      " 19  Area_Code       3333 non-null   int64  \n",
      " 20  Phone           3333 non-null   object \n",
      "dtypes: float64(8), int64(8), object(5)\n",
      "memory usage: 546.9+ KB\n"
     ]
    }
   ],
   "source": [
    "telco.info()"
   ]
  },
  {
   "cell_type": "code",
   "execution_count": 19,
   "metadata": {},
   "outputs": [
    {
     "data": {
      "text/plain": [
       "no     2850\n",
       "yes     483\n",
       "Name: Churn, dtype: int64"
      ]
     },
     "execution_count": 19,
     "metadata": {},
     "output_type": "execute_result"
    }
   ],
   "source": [
    "telco['Churn'].value_counts()"
   ]
  },
  {
   "cell_type": "code",
   "execution_count": 20,
   "metadata": {},
   "outputs": [
    {
     "name": "stdout",
     "output_type": "stream",
     "text": [
      "       CustServ_Calls  Vmail_Message\n",
      "Churn                               \n",
      "no           1.449825       8.604561\n",
      "yes          2.229814       5.115942\n",
      "       CustServ_Calls  Vmail_Message\n",
      "Churn                               \n",
      "no           1.163883      13.913125\n",
      "yes          1.853275      11.860138\n"
     ]
    }
   ],
   "source": [
    "print(telco.groupby('Churn')['CustServ_Calls','Vmail_Message'].mean())\n",
    "print(telco.groupby('Churn')['CustServ_Calls','Vmail_Message'].std())"
   ]
  },
  {
   "cell_type": "code",
   "execution_count": 28,
   "metadata": {},
   "outputs": [
    {
     "data": {
      "text/plain": [
       "State  Churn\n",
       "AK     no       49\n",
       "       yes       3\n",
       "AL     no       72\n",
       "       yes       8\n",
       "AR     no       44\n",
       "                ..\n",
       "WI     yes       7\n",
       "WV     no       96\n",
       "       yes      10\n",
       "WY     no       68\n",
       "       yes       9\n",
       "Name: Churn, Length: 102, dtype: int64"
      ]
     },
     "execution_count": 28,
     "metadata": {},
     "output_type": "execute_result"
    }
   ],
   "source": [
    "#pd.set_option('display.max_rows', None)\n",
    "#pd.reset_option('^display.', silent=True)\n",
    "telco.groupby('State')['Churn'].value_counts()"
   ]
  },
  {
   "cell_type": "code",
   "execution_count": 49,
   "metadata": {},
   "outputs": [
    {
     "data": {
      "image/png": "[encoded data removed]",
      "text/plain": [
       "<Figure size 1000x800 with 4 Axes>"
      ]
     },
     "metadata": {},
     "output_type": "display_data"
    }
   ],
   "source": [
    "fig,axs=plt.subplots(2,2,figsize=(10,8))\n",
    "sns.distplot(telco['Day_Mins'],ax=axs[0,0])\n",
    "sns.distplot(telco['Eve_Mins'],ax=axs[0,1])\n",
    "sns.distplot(telco['Night_Mins'],ax=axs[1,0])\n",
    "sns.distplot(telco['Intl_Mins'],ax=axs[1,1])\n",
    "\n",
    "\n",
    "plt.tight_layout()\n",
    "plt.show()"
   ]
  },
  {
   "cell_type": "code",
   "execution_count": 50,
   "metadata": {},
   "outputs": [
    {
     "data": {
      "text/plain": [
       "<Axes: xlabel='Churn', ylabel='CustServ_Calls'>"
      ]
     },
     "execution_count": 50,
     "metadata": {},
     "output_type": "execute_result"
    },
    {
     "data": {
      "image/png": "[encoded data removed]",
      "text/plain": [
       "<Figure size 640x480 with 1 Axes>"
      ]
     },
     "metadata": {},
     "output_type": "display_data"
    }
   ],
   "source": [
    "sns.boxplot(x = 'Churn',\n",
    "            y = 'CustServ_Calls',\n",
    "            data = telco,\n",
    "            sym = \"\",\n",
    "            hue = \"Intl_Plan\")"
   ]
  },
  {
   "cell_type": "markdown",
   "metadata": {},
   "source": [
    "Preprocessing"
   ]
  },
  {
   "cell_type": "code",
   "execution_count": 74,
   "metadata": {},
   "outputs": [
    {
     "data": {
      "text/html": [
       "<div>\n",
       "<style scoped>\n",
       "    .dataframe tbody tr th:only-of-type {\n",
       "        vertical-align: middle;\n",
       "    }\n",
       "\n",
       "    .dataframe tbody tr th {\n",
       "        vertical-align: top;\n",
       "    }\n",
       "\n",
       "    .dataframe thead th {\n",
       "        text-align: right;\n",
       "    }\n",
       "</style>\n",
       "<table border=\"1\" class=\"dataframe\">\n",
       "  <thead>\n",
       "    <tr style=\"text-align: right;\">\n",
       "      <th></th>\n",
       "      <th>Vmail_Plan</th>\n",
       "      <th>Churn</th>\n",
       "      <th>Intl_Plan</th>\n",
       "    </tr>\n",
       "  </thead>\n",
       "  <tbody>\n",
       "    <tr>\n",
       "      <th>0</th>\n",
       "      <td>1</td>\n",
       "      <td>0</td>\n",
       "      <td>0</td>\n",
       "    </tr>\n",
       "    <tr>\n",
       "      <th>1</th>\n",
       "      <td>1</td>\n",
       "      <td>0</td>\n",
       "      <td>0</td>\n",
       "    </tr>\n",
       "    <tr>\n",
       "      <th>2</th>\n",
       "      <td>0</td>\n",
       "      <td>0</td>\n",
       "      <td>0</td>\n",
       "    </tr>\n",
       "    <tr>\n",
       "      <th>3</th>\n",
       "      <td>0</td>\n",
       "      <td>0</td>\n",
       "      <td>1</td>\n",
       "    </tr>\n",
       "    <tr>\n",
       "      <th>4</th>\n",
       "      <td>0</td>\n",
       "      <td>0</td>\n",
       "      <td>1</td>\n",
       "    </tr>\n",
       "  </tbody>\n",
       "</table>\n",
       "</div>"
      ],
      "text/plain": [
       "   Vmail_Plan  Churn  Intl_Plan\n",
       "0           1      0          0\n",
       "1           1      0          0\n",
       "2           0      0          0\n",
       "3           0      0          1\n",
       "4           0      0          1"
      ]
     },
     "execution_count": 74,
     "metadata": {},
     "output_type": "execute_result"
    }
   ],
   "source": [
    "telco['Vmail_Plan'].replace(['no','yes'],[0,1],inplace=True)\n",
    "telco['Intl_Plan'].replace(['no','yes'],[0,1],inplace=True)\n",
    "telco['Churn'].replace(['no','yes'],[0,1],inplace=True)\n",
    "telco[['Vmail_Plan','Churn','Intl_Plan']].head()"
   ]
  },
  {
   "cell_type": "code",
   "execution_count": 56,
   "metadata": {},
   "outputs": [
    {
     "data": {
      "text/html": [
       "<div>\n",
       "<style scoped>\n",
       "    .dataframe tbody tr th:only-of-type {\n",
       "        vertical-align: middle;\n",
       "    }\n",
       "\n",
       "    .dataframe tbody tr th {\n",
       "        vertical-align: top;\n",
       "    }\n",
       "\n",
       "    .dataframe thead th {\n",
       "        text-align: right;\n",
       "    }\n",
       "</style>\n",
       "<table border=\"1\" class=\"dataframe\">\n",
       "  <thead>\n",
       "    <tr style=\"text-align: right;\">\n",
       "      <th></th>\n",
       "      <th>AL</th>\n",
       "      <th>AR</th>\n",
       "      <th>AZ</th>\n",
       "      <th>CA</th>\n",
       "      <th>CO</th>\n",
       "      <th>CT</th>\n",
       "      <th>DC</th>\n",
       "      <th>DE</th>\n",
       "      <th>FL</th>\n",
       "      <th>GA</th>\n",
       "      <th>...</th>\n",
       "      <th>SD</th>\n",
       "      <th>TN</th>\n",
       "      <th>TX</th>\n",
       "      <th>UT</th>\n",
       "      <th>VA</th>\n",
       "      <th>VT</th>\n",
       "      <th>WA</th>\n",
       "      <th>WI</th>\n",
       "      <th>WV</th>\n",
       "      <th>WY</th>\n",
       "    </tr>\n",
       "  </thead>\n",
       "  <tbody>\n",
       "    <tr>\n",
       "      <th>0</th>\n",
       "      <td>0</td>\n",
       "      <td>0</td>\n",
       "      <td>0</td>\n",
       "      <td>0</td>\n",
       "      <td>0</td>\n",
       "      <td>0</td>\n",
       "      <td>0</td>\n",
       "      <td>0</td>\n",
       "      <td>0</td>\n",
       "      <td>0</td>\n",
       "      <td>...</td>\n",
       "      <td>0</td>\n",
       "      <td>0</td>\n",
       "      <td>0</td>\n",
       "      <td>0</td>\n",
       "      <td>0</td>\n",
       "      <td>0</td>\n",
       "      <td>0</td>\n",
       "      <td>0</td>\n",
       "      <td>0</td>\n",
       "      <td>0</td>\n",
       "    </tr>\n",
       "    <tr>\n",
       "      <th>1</th>\n",
       "      <td>0</td>\n",
       "      <td>0</td>\n",
       "      <td>0</td>\n",
       "      <td>0</td>\n",
       "      <td>0</td>\n",
       "      <td>0</td>\n",
       "      <td>0</td>\n",
       "      <td>0</td>\n",
       "      <td>0</td>\n",
       "      <td>0</td>\n",
       "      <td>...</td>\n",
       "      <td>0</td>\n",
       "      <td>0</td>\n",
       "      <td>0</td>\n",
       "      <td>0</td>\n",
       "      <td>0</td>\n",
       "      <td>0</td>\n",
       "      <td>0</td>\n",
       "      <td>0</td>\n",
       "      <td>0</td>\n",
       "      <td>0</td>\n",
       "    </tr>\n",
       "    <tr>\n",
       "      <th>2</th>\n",
       "      <td>0</td>\n",
       "      <td>0</td>\n",
       "      <td>0</td>\n",
       "      <td>0</td>\n",
       "      <td>0</td>\n",
       "      <td>0</td>\n",
       "      <td>0</td>\n",
       "      <td>0</td>\n",
       "      <td>0</td>\n",
       "      <td>0</td>\n",
       "      <td>...</td>\n",
       "      <td>0</td>\n",
       "      <td>0</td>\n",
       "      <td>0</td>\n",
       "      <td>0</td>\n",
       "      <td>0</td>\n",
       "      <td>0</td>\n",
       "      <td>0</td>\n",
       "      <td>0</td>\n",
       "      <td>0</td>\n",
       "      <td>0</td>\n",
       "    </tr>\n",
       "    <tr>\n",
       "      <th>3</th>\n",
       "      <td>0</td>\n",
       "      <td>0</td>\n",
       "      <td>0</td>\n",
       "      <td>0</td>\n",
       "      <td>0</td>\n",
       "      <td>0</td>\n",
       "      <td>0</td>\n",
       "      <td>0</td>\n",
       "      <td>0</td>\n",
       "      <td>0</td>\n",
       "      <td>...</td>\n",
       "      <td>0</td>\n",
       "      <td>0</td>\n",
       "      <td>0</td>\n",
       "      <td>0</td>\n",
       "      <td>0</td>\n",
       "      <td>0</td>\n",
       "      <td>0</td>\n",
       "      <td>0</td>\n",
       "      <td>0</td>\n",
       "      <td>0</td>\n",
       "    </tr>\n",
       "    <tr>\n",
       "      <th>4</th>\n",
       "      <td>0</td>\n",
       "      <td>0</td>\n",
       "      <td>0</td>\n",
       "      <td>0</td>\n",
       "      <td>0</td>\n",
       "      <td>0</td>\n",
       "      <td>0</td>\n",
       "      <td>0</td>\n",
       "      <td>0</td>\n",
       "      <td>0</td>\n",
       "      <td>...</td>\n",
       "      <td>0</td>\n",
       "      <td>0</td>\n",
       "      <td>0</td>\n",
       "      <td>0</td>\n",
       "      <td>0</td>\n",
       "      <td>0</td>\n",
       "      <td>0</td>\n",
       "      <td>0</td>\n",
       "      <td>0</td>\n",
       "      <td>0</td>\n",
       "    </tr>\n",
       "  </tbody>\n",
       "</table>\n",
       "<p>5 rows × 50 columns</p>\n",
       "</div>"
      ],
      "text/plain": [
       "   AL  AR  AZ  CA  CO  CT  DC  DE  FL  GA  ...  SD  TN  TX  UT  VA  VT  WA  \\\n",
       "0   0   0   0   0   0   0   0   0   0   0  ...   0   0   0   0   0   0   0   \n",
       "1   0   0   0   0   0   0   0   0   0   0  ...   0   0   0   0   0   0   0   \n",
       "2   0   0   0   0   0   0   0   0   0   0  ...   0   0   0   0   0   0   0   \n",
       "3   0   0   0   0   0   0   0   0   0   0  ...   0   0   0   0   0   0   0   \n",
       "4   0   0   0   0   0   0   0   0   0   0  ...   0   0   0   0   0   0   0   \n",
       "\n",
       "   WI  WV  WY  \n",
       "0   0   0   0  \n",
       "1   0   0   0  \n",
       "2   0   0   0  \n",
       "3   0   0   0  \n",
       "4   0   0   0  \n",
       "\n",
       "[5 rows x 50 columns]"
      ]
     },
     "execution_count": 56,
     "metadata": {},
     "output_type": "execute_result"
    }
   ],
   "source": [
    "telco_state=pd.get_dummies(telco['State'],drop_first=True)\n",
    "telco_state.head()"
   ]
  },
  {
   "cell_type": "code",
   "execution_count": 61,
   "metadata": {},
   "outputs": [
    {
     "data": {
      "text/html": [
       "<div>\n",
       "<style scoped>\n",
       "    .dataframe tbody tr th:only-of-type {\n",
       "        vertical-align: middle;\n",
       "    }\n",
       "\n",
       "    .dataframe tbody tr th {\n",
       "        vertical-align: top;\n",
       "    }\n",
       "\n",
       "    .dataframe thead th {\n",
       "        text-align: right;\n",
       "    }\n",
       "</style>\n",
       "<table border=\"1\" class=\"dataframe\">\n",
       "  <thead>\n",
       "    <tr style=\"text-align: right;\">\n",
       "      <th></th>\n",
       "      <th>Night_Mins</th>\n",
       "      <th>Intl_Calls</th>\n",
       "    </tr>\n",
       "  </thead>\n",
       "  <tbody>\n",
       "    <tr>\n",
       "      <th>count</th>\n",
       "      <td>3.333000e+03</td>\n",
       "      <td>3.333000e+03</td>\n",
       "    </tr>\n",
       "    <tr>\n",
       "      <th>mean</th>\n",
       "      <td>7.887813e-17</td>\n",
       "      <td>-8.527366e-18</td>\n",
       "    </tr>\n",
       "    <tr>\n",
       "      <th>std</th>\n",
       "      <td>1.000150e+00</td>\n",
       "      <td>1.000150e+00</td>\n",
       "    </tr>\n",
       "    <tr>\n",
       "      <th>min</th>\n",
       "      <td>-3.513648e+00</td>\n",
       "      <td>-1.820289e+00</td>\n",
       "    </tr>\n",
       "    <tr>\n",
       "      <th>25%</th>\n",
       "      <td>-6.698545e-01</td>\n",
       "      <td>-6.011951e-01</td>\n",
       "    </tr>\n",
       "    <tr>\n",
       "      <th>50%</th>\n",
       "      <td>6.485803e-03</td>\n",
       "      <td>-1.948306e-01</td>\n",
       "    </tr>\n",
       "    <tr>\n",
       "      <th>75%</th>\n",
       "      <td>6.808485e-01</td>\n",
       "      <td>6.178983e-01</td>\n",
       "    </tr>\n",
       "    <tr>\n",
       "      <th>max</th>\n",
       "      <td>3.839081e+00</td>\n",
       "      <td>6.307001e+00</td>\n",
       "    </tr>\n",
       "  </tbody>\n",
       "</table>\n",
       "</div>"
      ],
      "text/plain": [
       "         Night_Mins    Intl_Calls\n",
       "count  3.333000e+03  3.333000e+03\n",
       "mean   7.887813e-17 -8.527366e-18\n",
       "std    1.000150e+00  1.000150e+00\n",
       "min   -3.513648e+00 -1.820289e+00\n",
       "25%   -6.698545e-01 -6.011951e-01\n",
       "50%    6.485803e-03 -1.948306e-01\n",
       "75%    6.808485e-01  6.178983e-01\n",
       "max    3.839081e+00  6.307001e+00"
      ]
     },
     "execution_count": 61,
     "metadata": {},
     "output_type": "execute_result"
    }
   ],
   "source": [
    "Scaler=StandardScaler()\n",
    "telco_scaled=Scaler.fit_transform(telco[['Night_Mins','Intl_Calls']])\n",
    "telco_scaled=pd.DataFrame(telco_scaled,columns=['Night_Mins','Intl_Calls'])\n",
    "telco_scaled.describe() "
   ]
  },
  {
   "cell_type": "code",
   "execution_count": 67,
   "metadata": {},
   "outputs": [
    {
     "data": {
      "text/plain": [
       "Index(['Account_Length', 'Vmail_Message', 'Day_Mins', 'Eve_Mins', 'Night_Mins',\n",
       "       'Intl_Mins', 'CustServ_Calls', 'Churn', 'Intl_Plan', 'Vmail_Plan',\n",
       "       'Day_Calls', 'Day_Charge', 'Eve_Calls', 'Eve_Charge', 'Night_Calls',\n",
       "       'Night_Charge', 'Intl_Calls', 'Intl_Charge', 'Avg_Night_Calls'],\n",
       "      dtype='object')"
      ]
     },
     "execution_count": 67,
     "metadata": {},
     "output_type": "execute_result"
    }
   ],
   "source": [
    "telco.drop(['Area_Code','Phone','State'],axis=1,inplace=True)\n",
    "telco.columns"
   ]
  },
  {
   "cell_type": "code",
   "execution_count": 66,
   "metadata": {},
   "outputs": [
    {
     "data": {
      "text/plain": [
       "0    2.689011\n",
       "1    2.469903\n",
       "2    1.563462\n",
       "3    2.212360\n",
       "4    1.544628\n",
       "Name: Avg_Night_Calls, dtype: float64"
      ]
     },
     "execution_count": 66,
     "metadata": {},
     "output_type": "execute_result"
    }
   ],
   "source": [
    "#creating new features\n",
    "telco['Avg_Night_Calls'] = telco['Night_Mins']/telco['Night_Calls']\n",
    "telco['Avg_Night_Calls'].head()"
   ]
  },
  {
   "cell_type": "code",
   "execution_count": 77,
   "metadata": {},
   "outputs": [
    {
     "data": {
      "text/plain": [
       "Account_Length       int64\n",
       "Vmail_Message        int64\n",
       "Day_Mins           float64\n",
       "Eve_Mins           float64\n",
       "Night_Mins         float64\n",
       "Intl_Mins          float64\n",
       "CustServ_Calls       int64\n",
       "Churn                int64\n",
       "Intl_Plan            int64\n",
       "Vmail_Plan           int64\n",
       "Day_Calls            int64\n",
       "Day_Charge         float64\n",
       "Eve_Calls            int64\n",
       "Eve_Charge         float64\n",
       "Night_Calls          int64\n",
       "Night_Charge       float64\n",
       "Intl_Calls           int64\n",
       "Intl_Charge        float64\n",
       "Avg_Night_Calls    float64\n",
       "dtype: object"
      ]
     },
     "execution_count": 77,
     "metadata": {},
     "output_type": "execute_result"
    }
   ],
   "source": [
    "#0              91             23     232.4     186.0       190.5  ...       15.81          128          8.57           3         3.32\n",
    "telco.dtypes"
   ]
  },
  {
   "cell_type": "code",
   "execution_count": 75,
   "metadata": {},
   "outputs": [
    {
     "name": "stdout",
     "output_type": "stream",
     "text": [
      "0    2850\n",
      "1     483\n",
      "Name: Churn, dtype: int64\n"
     ]
    },
    {
     "data": {
      "image/png": "[encoded data removed]",
      "text/plain": [
       "<Figure size 640x480 with 1 Axes>"
      ]
     },
     "metadata": {},
     "output_type": "display_data"
    }
   ],
   "source": [
    "#checking class imbalance\n",
    "print(telco['Churn'].value_counts())\n",
    "sns.countplot(x='Churn',data=telco)\n",
    "plt.show()"
   ]
  },
  {
   "cell_type": "code",
   "execution_count": 83,
   "metadata": {},
   "outputs": [],
   "source": [
    "#splitting features and target\n",
    "X=telco.drop('Churn',axis=1)\n",
    "y=telco['Churn']"
   ]
  },
  {
   "cell_type": "code",
   "execution_count": 84,
   "metadata": {},
   "outputs": [],
   "source": [
    "#Oversampling the minority class Using SMOTE\n",
    "smote=SMOTE(sampling_strategy='auto',random_state=42)\n",
    "X_resampled,y_resampled=smote.fit_resample(X,y)\n"
   ]
  },
  {
   "cell_type": "code",
   "execution_count": 85,
   "metadata": {},
   "outputs": [],
   "source": [
    "#standardizing the features\n",
    "countinuous_features=['Account_Length','Vmail_Message','Day_Mins','Eve_Mins','Night_Mins','Intl_Mins','CustServ_Calls','Avg_Night_Calls','Day_Calls','Day_Charge','Eve_Calls','Eve_Charge','Night_Calls','Night_Charge','Intl_Calls','Intl_Charge']\n",
    "X_countinuous=X_resampled[countinuous_features]\n",
    "X_countinuous_scaled=Scaler.fit_transform(X_countinuous)\n",
    "X_resampled[countinuous_features]=X_countinuous_scaled"
   ]
  },
  {
   "cell_type": "code",
   "execution_count": 86,
   "metadata": {},
   "outputs": [
    {
     "data": {
      "text/html": [
       "<div>\n",
       "<style scoped>\n",
       "    .dataframe tbody tr th:only-of-type {\n",
       "        vertical-align: middle;\n",
       "    }\n",
       "\n",
       "    .dataframe tbody tr th {\n",
       "        vertical-align: top;\n",
       "    }\n",
       "\n",
       "    .dataframe thead th {\n",
       "        text-align: right;\n",
       "    }\n",
       "</style>\n",
       "<table border=\"1\" class=\"dataframe\">\n",
       "  <thead>\n",
       "    <tr style=\"text-align: right;\">\n",
       "      <th></th>\n",
       "      <th>Account_Length</th>\n",
       "      <th>Vmail_Message</th>\n",
       "      <th>Day_Mins</th>\n",
       "      <th>Eve_Mins</th>\n",
       "      <th>Night_Mins</th>\n",
       "      <th>Intl_Mins</th>\n",
       "      <th>CustServ_Calls</th>\n",
       "      <th>Intl_Plan</th>\n",
       "      <th>Vmail_Plan</th>\n",
       "      <th>Day_Calls</th>\n",
       "      <th>Day_Charge</th>\n",
       "      <th>Eve_Calls</th>\n",
       "      <th>Eve_Charge</th>\n",
       "      <th>Night_Calls</th>\n",
       "      <th>Night_Charge</th>\n",
       "      <th>Intl_Calls</th>\n",
       "      <th>Intl_Charge</th>\n",
       "      <th>Avg_Night_Calls</th>\n",
       "    </tr>\n",
       "  </thead>\n",
       "  <tbody>\n",
       "    <tr>\n",
       "      <th>0</th>\n",
       "      <td>0.694089</td>\n",
       "      <td>1.498116</td>\n",
       "      <td>1.206222</td>\n",
       "      <td>-0.173222</td>\n",
       "      <td>0.886697</td>\n",
       "      <td>-0.174042</td>\n",
       "      <td>-0.481201</td>\n",
       "      <td>0</td>\n",
       "      <td>1</td>\n",
       "      <td>0.466856</td>\n",
       "      <td>1.206462</td>\n",
       "      <td>-0.068586</td>\n",
       "      <td>-0.173028</td>\n",
       "      <td>-0.474084</td>\n",
       "      <td>0.885899</td>\n",
       "      <td>-0.509113</td>\n",
       "      <td>-0.174819</td>\n",
       "      <td>0.874374</td>\n",
       "    </tr>\n",
       "    <tr>\n",
       "      <th>1</th>\n",
       "      <td>0.146936</td>\n",
       "      <td>1.579511</td>\n",
       "      <td>-0.488247</td>\n",
       "      <td>-0.211137</td>\n",
       "      <td>1.089134</td>\n",
       "      <td>1.246298</td>\n",
       "      <td>-0.481201</td>\n",
       "      <td>0</td>\n",
       "      <td>1</td>\n",
       "      <td>1.135947</td>\n",
       "      <td>-0.488486</td>\n",
       "      <td>0.144926</td>\n",
       "      <td>-0.210592</td>\n",
       "      <td>0.171416</td>\n",
       "      <td>1.089950</td>\n",
       "      <td>-0.509113</td>\n",
       "      <td>1.246976</td>\n",
       "      <td>0.546893</td>\n",
       "    </tr>\n",
       "    <tr>\n",
       "      <th>2</th>\n",
       "      <td>0.928584</td>\n",
       "      <td>-0.536747</td>\n",
       "      <td>0.850957</td>\n",
       "      <td>-1.693812</td>\n",
       "      <td>-0.826711</td>\n",
       "      <td>0.670484</td>\n",
       "      <td>-1.181085</td>\n",
       "      <td>0</td>\n",
       "      <td>0</td>\n",
       "      <td>0.672730</td>\n",
       "      <td>0.851101</td>\n",
       "      <td>0.518571</td>\n",
       "      <td>-1.694356</td>\n",
       "      <td>0.225208</td>\n",
       "      <td>-0.825344</td>\n",
       "      <td>0.342771</td>\n",
       "      <td>0.664040</td>\n",
       "      <td>-0.807882</td>\n",
       "    </tr>\n",
       "    <tr>\n",
       "      <th>3</th>\n",
       "      <td>-0.452327</td>\n",
       "      <td>-0.536747</td>\n",
       "      <td>1.767771</td>\n",
       "      <td>-2.877158</td>\n",
       "      <td>-0.110878</td>\n",
       "      <td>-1.479218</td>\n",
       "      <td>0.218683</td>\n",
       "      <td>1</td>\n",
       "      <td>0</td>\n",
       "      <td>-1.540417</td>\n",
       "      <td>1.767913</td>\n",
       "      <td>-0.655743</td>\n",
       "      <td>-2.877612</td>\n",
       "      <td>-0.581667</td>\n",
       "      <td>-0.111167</td>\n",
       "      <td>1.194655</td>\n",
       "      <td>-1.482870</td>\n",
       "      <td>0.161966</td>\n",
       "    </tr>\n",
       "    <tr>\n",
       "      <th>4</th>\n",
       "      <td>-0.686822</td>\n",
       "      <td>-0.536747</td>\n",
       "      <td>-0.404752</td>\n",
       "      <td>-1.153025</td>\n",
       "      <td>-0.319576</td>\n",
       "      <td>-0.135654</td>\n",
       "      <td>0.918567</td>\n",
       "      <td>1</td>\n",
       "      <td>0</td>\n",
       "      <td>0.621261</td>\n",
       "      <td>-0.404701</td>\n",
       "      <td>1.159106</td>\n",
       "      <td>-1.152031</td>\n",
       "      <td>1.139666</td>\n",
       "      <td>-0.319855</td>\n",
       "      <td>-0.509113</td>\n",
       "      <td>-0.132165</td>\n",
       "      <td>-0.836031</td>\n",
       "    </tr>\n",
       "  </tbody>\n",
       "</table>\n",
       "</div>"
      ],
      "text/plain": [
       "   Account_Length  Vmail_Message  Day_Mins  Eve_Mins  Night_Mins  Intl_Mins  \\\n",
       "0        0.694089       1.498116  1.206222 -0.173222    0.886697  -0.174042   \n",
       "1        0.146936       1.579511 -0.488247 -0.211137    1.089134   1.246298   \n",
       "2        0.928584      -0.536747  0.850957 -1.693812   -0.826711   0.670484   \n",
       "3       -0.452327      -0.536747  1.767771 -2.877158   -0.110878  -1.479218   \n",
       "4       -0.686822      -0.536747 -0.404752 -1.153025   -0.319576  -0.135654   \n",
       "\n",
       "   CustServ_Calls  Intl_Plan  Vmail_Plan  Day_Calls  Day_Charge  Eve_Calls  \\\n",
       "0       -0.481201          0           1   0.466856    1.206462  -0.068586   \n",
       "1       -0.481201          0           1   1.135947   -0.488486   0.144926   \n",
       "2       -1.181085          0           0   0.672730    0.851101   0.518571   \n",
       "3        0.218683          1           0  -1.540417    1.767913  -0.655743   \n",
       "4        0.918567          1           0   0.621261   -0.404701   1.159106   \n",
       "\n",
       "   Eve_Charge  Night_Calls  Night_Charge  Intl_Calls  Intl_Charge  \\\n",
       "0   -0.173028    -0.474084      0.885899   -0.509113    -0.174819   \n",
       "1   -0.210592     0.171416      1.089950   -0.509113     1.246976   \n",
       "2   -1.694356     0.225208     -0.825344    0.342771     0.664040   \n",
       "3   -2.877612    -0.581667     -0.111167    1.194655    -1.482870   \n",
       "4   -1.152031     1.139666     -0.319855   -0.509113    -0.132165   \n",
       "\n",
       "   Avg_Night_Calls  \n",
       "0         0.874374  \n",
       "1         0.546893  \n",
       "2        -0.807882  \n",
       "3         0.161966  \n",
       "4        -0.836031  "
      ]
     },
     "execution_count": 86,
     "metadata": {},
     "output_type": "execute_result"
    }
   ],
   "source": [
    "X_resampled.head()"
   ]
  },
  {
   "cell_type": "code",
   "execution_count": 87,
   "metadata": {},
   "outputs": [],
   "source": [
    "#splitting the data into train and test\n",
    "X_train,X_test,y_train,y_test=train_test_split(X_resampled,y_resampled,test_size=0.3,random_state=42)"
   ]
  },
  {
   "cell_type": "code",
   "execution_count": 109,
   "metadata": {},
   "outputs": [
    {
     "name": "stdout",
     "output_type": "stream",
     "text": [
      "Fitting 5 folds for each of 10 candidates, totalling 50 fits\n",
      "Fitting 5 folds for each of 10 candidates, totalling 50 fits\n",
      "Fitting 5 folds for each of 10 candidates, totalling 50 fits\n",
      "Model DesisionTree, Score 0.8444444444444444\n",
      "Model RandomForest, Score 0.9046783625730994\n",
      "Model SVC, Score 0.9298245614035088\n"
     ]
    }
   ],
   "source": [
    "#Test Different Models Using RandomizedSearchCV\n",
    "\n",
    "models={\n",
    "    'DesisionTree':(DecisionTreeClassifier(),{'max_depth':[None,5,10,15],'min_samples_split':[2,5,10,15],'min_samples_leaf':[1,2,5,10]}),\n",
    "    'RandomForest':(RandomForestClassifier(),{'n_estimators':[50,100,150,200],'max_depth':[None,5,10,15],'min_samples_split':[5,10,15],'min_samples_leaf':[2,5,10]}),\n",
    "    'SVC':(SVC(probability=True),{'kernel':['linear','rbf'],'C':[0.1,1,10,100],'gamma':[0.1,1,10,100]}),   \n",
    "}\n",
    "\n",
    "best_model={}\n",
    "for model_name,(model,params)in models.items():\n",
    "    random_search=RandomizedSearchCV(\n",
    "        model,\n",
    "        param_distributions=params,\n",
    "        n_iter=10,\n",
    "        cv=5,\n",
    "        scoring='accuracy',\n",
    "        n_jobs=-1,\n",
    "        verbose=2\n",
    "    )\n",
    "    random_search.fit(X_train,y_train)\n",
    "    best_model[model_name]=random_search.best_estimator_\n",
    "\n",
    "for model_name,model in best_model.items():\n",
    "    print(f\"Model {model_name}, Score {model.score(X_test,y_test)}\")\n"
   ]
  },
  {
   "cell_type": "code",
   "execution_count": 110,
   "metadata": {},
   "outputs": [
    {
     "name": "stdout",
     "output_type": "stream",
     "text": [
      "Best parametes for SVC Model=SVC(C=10, gamma=0.1, probability=True)\n",
      "              precision    recall  f1-score   support\n",
      "\n",
      "           0       0.96      0.91      0.93       882\n",
      "           1       0.91      0.96      0.93       828\n",
      "\n",
      "    accuracy                           0.93      1710\n",
      "   macro avg       0.93      0.93      0.93      1710\n",
      "weighted avg       0.93      0.93      0.93      1710\n",
      "\n"
     ]
    }
   ],
   "source": [
    "#Evaluating best model (SVC) on test data\n",
    "print(f\"Best parametes for SVC Model={best_model['SVC']}\")\n",
    "y_pred=best_model['SVC'].predict(X_test)\n",
    "\n",
    "\n",
    "#classification report\n",
    "print(classification_report(y_test,y_pred))\n",
    "\n",
    "\n"
   ]
  },
  {
   "cell_type": "code",
   "execution_count": 114,
   "metadata": {},
   "outputs": [
    {
     "name": "stdout",
     "output_type": "stream",
     "text": [
      "Roc_auc_score:0.9766286546824849\n"
     ]
    },
    {
     "data": {
      "image/png": "[encoded data removed]",
      "text/plain": [
       "<Figure size 800x600 with 1 Axes>"
      ]
     },
     "metadata": {},
     "output_type": "display_data"
    }
   ],
   "source": [
    "#ROC Curve\n",
    "y_prob=best_model['SVC'].predict_proba(X_test)[:,1]\n",
    "fpr, tpr, thresholds = roc_curve(y_test, y_prob)\n",
    "\n",
    "# Calculate the AUC (Area Under the Curve)\n",
    "roc_auc = auc(fpr, tpr)\n",
    "print(f\"Roc_auc_score:{roc_auc_score(y_test, y_prob)}\")\n",
    "# Plot the ROC curve\n",
    "plt.figure(figsize=(8, 6))\n",
    "plt.plot(fpr, tpr, color='darkorange', lw=2, label=f'ROC curve (area = {roc_auc:.2f})')\n",
    "plt.plot([0, 1], [0, 1], color='navy', lw=2, linestyle='--')\n",
    "plt.xlim([0.0, 1.0])\n",
    "plt.ylim([0.0, 1.05])\n",
    "plt.xlabel('False Positive Rate')\n",
    "plt.ylabel('True Positive Rate')\n",
    "plt.title('Receiver Operating Characteristic (ROC) Curve')\n",
    "plt.legend(loc=\"lower right\")\n",
    "plt.show()"
   ]
  },
  {
   "cell_type": "code",
   "execution_count": 119,
   "metadata": {},
   "outputs": [
    {
     "data": {
      "image/png": "[encoded data removed]",
      "text/plain": [
       "<Figure size 640x480 with 1 Axes>"
      ]
     },
     "metadata": {},
     "output_type": "display_data"
    }
   ],
   "source": [
    "#checking the feature importance using Random Forest\n",
    "importance=best_model['RandomForest'].feature_importances_\n",
    "sorted_idx = np.argsort(importance)\n",
    "plt.barh(X.columns[sorted_idx],importance[sorted_idx])\n",
    "plt.show()"
   ]
  }
 ],
 "metadata": {
  "kernelspec": {
   "display_name": "Python 3",
   "language": "python",
   "name": "python3"
  },
  "language_info": {
   "codemirror_mode": {
    "name": "ipython",
    "version": 3
   },
   "file_extension": ".py",
   "mimetype": "text/x-python",
   "name": "python",
   "nbconvert_exporter": "python",
   "pygments_lexer": "ipython3",
   "version": "3.11.1"
  },
  "orig_nbformat": 4
 },
 "nbformat": 4,
 "nbformat_minor": 2
}
